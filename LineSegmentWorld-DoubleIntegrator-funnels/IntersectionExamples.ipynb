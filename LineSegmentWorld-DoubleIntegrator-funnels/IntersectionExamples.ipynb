{
 "cells": [
  {
   "cell_type": "code",
   "execution_count": 9,
   "metadata": {
    "collapsed": true
   },
   "outputs": [],
   "source": [
    "import numpy as np\n",
    "import matplotlib.pyplot as plt\n",
    "%matplotlib inline"
   ]
  },
  {
   "cell_type": "code",
   "execution_count": 10,
   "metadata": {
    "collapsed": true
   },
   "outputs": [],
   "source": [
    "A = np.ones(20)"
   ]
  },
  {
   "cell_type": "code",
   "execution_count": 12,
   "metadata": {
    "collapsed": false
   },
   "outputs": [
    {
     "data": {
      "image/png": "[encoded data removed]",
      "text/plain": [
       "<matplotlib.figure.Figure at 0x111f25d90>"
      ]
     },
     "metadata": {},
     "output_type": "display_data"
    }
   ],
   "source": [
    "B = A * 1.0\n",
    "for i in range(len(A)):\n",
    "    B[i] = i\n",
    "    \n",
    "A = B * 1.0\n",
    "    \n",
    "plt.plot(A,B)\n",
    "plt.show()\n"
   ]
  },
  {
   "cell_type": "code",
   "execution_count": 15,
   "metadata": {
    "collapsed": false
   },
   "outputs": [
    {
     "name": "stdout",
     "output_type": "stream",
     "text": [
      "[ 4.  0.]\n",
      "[ 6.  4.]\n",
      "[ 6.  6.]\n"
     ]
    }
   ],
   "source": [
    "#http://stackoverflow.com/questions/3252194/numpy-and-line-intersections\n",
    "\n",
    "#\n",
    "# line segment intersection using vectors\n",
    "# see Computer Graphics by F.S. Hill\n",
    "#\n",
    "from numpy import *\n",
    "def perp( a ) :\n",
    "    b = empty_like(a)\n",
    "    b[0] = -a[1]\n",
    "    b[1] = a[0]\n",
    "    return b\n",
    "\n",
    "# line segment a given by endpoints a1, a2\n",
    "# line segment b given by endpoints b1, b2\n",
    "# return \n",
    "def seg_intersect(a1,a2, b1,b2) :\n",
    "    da = a2-a1\n",
    "    db = b2-b1\n",
    "    dp = a1-b1\n",
    "    dap = perp(da)\n",
    "    denom = dot( dap, db)\n",
    "    num = dot( dap, dp )\n",
    "    return (num / denom.astype(float))*db + b1\n",
    "\n",
    "p1 = array( [0.0, 0.0] )\n",
    "p2 = array( [1.0, 0.0] )\n",
    "\n",
    "p3 = array( [4.0, -5.0] )\n",
    "p4 = array( [4.0, 2.0] )\n",
    "\n",
    "print seg_intersect( p1,p2, p3,p4)\n",
    "\n",
    "p1 = array( [2.0, 2.0] )\n",
    "p2 = array( [4.0, 3.0] )\n",
    "\n",
    "p3 = array( [6.0, 0.0] )\n",
    "p4 = array( [6.0, 3.0] )\n",
    "\n",
    "print seg_intersect( p1,p2, p3,p4)\n",
    "\n",
    "\n",
    "p1 = array( [2.0, 2.0] )\n",
    "p2 = array( [4.0, 4.0] )\n",
    "\n",
    "p3 = array( [5.0, 4.0] )\n",
    "p4 = array( [6.0, 6.0] )\n",
    "\n",
    "print seg_intersect( p1,p2, p3,p4)"
   ]
  },
  {
   "cell_type": "code",
   "execution_count": 16,
   "metadata": {
    "collapsed": true
   },
   "outputs": [],
   "source": [
    "# Lecture on line sweep http://jeffe.cs.illinois.edu/teaching/373/notes/x06-sweepline.pdf"
   ]
  },
  {
   "cell_type": "code",
   "execution_count": 23,
   "metadata": {
    "collapsed": false
   },
   "outputs": [
    {
     "ename": "SyntaxError",
     "evalue": "invalid syntax (<ipython-input-23-2ddf52b3647a>, line 122)",
     "output_type": "error",
     "traceback": [
      "\u001b[0;36m  File \u001b[0;32m\"<ipython-input-23-2ddf52b3647a>\"\u001b[0;36m, line \u001b[0;32m122\u001b[0m\n\u001b[0;31m    if r1.width &lt; tolerance:\u001b[0m\n\u001b[0m                   ^\u001b[0m\n\u001b[0;31mSyntaxError\u001b[0m\u001b[0;31m:\u001b[0m invalid syntax\n"
     ]
    }
   ],
   "source": [
    "#    geometry.py\n",
    "#\n",
    "#    Geometry functions to find intersecting lines.\n",
    "#    Thes calc's use this formula for a straight line:-\n",
    "#        y = mx + b where m is the gradient and b is the y value when x=0\n",
    "#\n",
    "#    See here for background http://www.mathopenref.com/coordintersection.html\n",
    "#    \n",
    "#    Throughout the code the variable p is a point tuple representing (x,y)\n",
    "#\n",
    "#    Copyright (C) 2008  Nick Redshaw\n",
    "#\n",
    "#    This program is free software: you can redistribute it and/or modify\n",
    "#    it under the terms of the GNU General Public License as published by\n",
    "#    the Free Software Foundation, either version 3 of the License, or\n",
    "#    (at your option) any later version.\n",
    "#\n",
    "#    This program is distributed in the hope that it will be useful,\n",
    "#    but WITHOUT ANY WARRANTY; without even the implied warranty of\n",
    "#    MERCHANTABILITY or FITNESS FOR A PARTICULAR PURPOSE.  See the\n",
    "#    GNU General Public License for more details.\n",
    "#\n",
    "#    You should have received a copy of the GNU General Public License\n",
    "#    along with this program.  If not, see .\n",
    " \n",
    "from __future__ import division\n",
    "from pygame import Rect\n",
    " \n",
    "# Calc the gradient 'm' of a line between p1 and p2\n",
    "def calculateGradient(p1, p2):\n",
    "    # Ensure that the line is not vertical\n",
    "    if (p1[0] != p2[0]):\n",
    "        m = (p1[1] - p2[1]) / (p1[0] - p2[0])\n",
    "        return m\n",
    "    else:\n",
    "        return None\n",
    "    \n",
    "# Calc the point 'b' where line crosses the Y axis\n",
    "def calculateYAxisIntersect(p, m):\n",
    "    return  p[1] - (m * p[0])\n",
    " \n",
    "# Calc the point where two infinitely long lines (p1 to p2 and p3 to p4) intersect.\n",
    "# Handle parallel lines and vertical lines (the later has infinate 'm').\n",
    "# Returns a point tuple of points like this ((x,y),...)  or None\n",
    "# In non parallel cases the tuple will contain just one point.\n",
    "# For parallel lines that lay on top of one another the tuple will contain\n",
    "# all four points of the two lines\n",
    "def getIntersectPoint(p1, p2, p3, p4):\n",
    "    m1 = calculateGradient(p1, p2)\n",
    "    m2 = calculateGradient(p3, p4)\n",
    "      \n",
    "    # See if the the lines are parallel\n",
    "    if (m1 != m2):\n",
    "        # Not parallel\n",
    "      \n",
    "        # See if either line is vertical\n",
    "        if (m1 is not None and m2 is not None):\n",
    "            # Neither line vertical           \n",
    "            b1 = calculateYAxisIntersect(p1, m1)\n",
    "            b2 = calculateYAxisIntersect(p3, m2)   \n",
    "            x = (b2 - b1) / (m1 - m2)       \n",
    "            y = (m1 * x) + b1           \n",
    "        else:\n",
    "            # Line 1 is vertical so use line 2's values\n",
    "            if (m1 is None):\n",
    "                b2 = calculateYAxisIntersect(p3, m2)   \n",
    "                x = p1[0]\n",
    "                y = (m2 * x) + b2\n",
    "            # Line 2 is vertical so use line 1's values               \n",
    "            elif (m2 is None):\n",
    "                b1 = calculateYAxisIntersect(p1, m1)\n",
    "                x = p3[0]\n",
    "                y = (m1 * x) + b1           \n",
    "            else:\n",
    "                assert false\n",
    "              \n",
    "        return ((x,y),)\n",
    "    \n",
    "    else:\n",
    "        # Parallel lines with same 'b' value must be the same line so they intersect\n",
    "        # everywhere in this case we return the start and end points of both lines\n",
    "        # the calculateIntersectPoint method will sort out which of these points\n",
    "        # lays on both line segments\n",
    "        b1, b2 = None, None # vertical lines have no b value\n",
    "        if m1 is not None:\n",
    "            b1 = calculateYAxisIntersect(p1, m1)\n",
    "          \n",
    "        if m2 is not None:   \n",
    "            b2 = calculateYAxisIntersect(p3, m2)\n",
    "      \n",
    "        # If these parallel lines lay on one another   \n",
    "        if b1 == b2:\n",
    "            return p1,p2,p3,p4\n",
    "        else:\n",
    "            return None\n",
    "        \n",
    "# For line segments (ie not infinitely long lines) the intersect point\n",
    "# may not lay on both lines.\n",
    "#   \n",
    "# If the point where two lines intersect is inside both line's bounding\n",
    "# rectangles then the lines intersect. Returns intersect point if the line\n",
    "# intesect o None if not\n",
    "def calculateIntersectPoint(p1, p2, p3, p4):\n",
    "  \n",
    "    p = getIntersectPoint(p1, p2, p3, p4)\n",
    "  \n",
    "    if p is not None:               \n",
    "        width = p2[0] - p1[0]\n",
    "        height = p2[1] - p1[1]       \n",
    "        r1 = Rect(p1, (width , height))\n",
    "        r1.normalize()\n",
    "       \n",
    "        width = p4[0] - p3[0]\n",
    "        height = p4[1] - p3[1]\n",
    "        r2 = Rect(p3, (width, height))\n",
    "        r2.normalize()              \n",
    "  \n",
    "        # Ensure both rects have a width and height of at least 'tolerance' else the\n",
    "        # collidepoint check of the Rect class will fail as it doesn't include the bottom\n",
    "        # and right hand side 'pixels' of the rectangle\n",
    "        tolerance = 1\n",
    "        if r1.width &lt; tolerance:\n",
    "            r1.width = tolerance\n",
    "                    \n",
    "        if r1.height &lt; tolerance:\n",
    "            r1.height = tolerance\n",
    "        \n",
    "        if r2.width &lt; tolerance:\n",
    "            r2.width = tolerance\n",
    "                    \n",
    "        if r2.height &lt; tolerance:\n",
    "            r2.height = tolerance\n",
    " \n",
    "        for point in p:                 \n",
    "            try:    \n",
    "                res1 = r1.collidepoint(point)\n",
    "                res2 = r2.collidepoint(point)\n",
    "                if res1 and res2:\n",
    "                    point = [int(pp) for pp in point]                                \n",
    "                    return point\n",
    "            except:\n",
    "                # sometimes the value in a point are too large for PyGame's Rect class\n",
    "                str = \"point was invalid  \", point                \n",
    "                print str\n",
    "                \n",
    "        # This is the case where the infinately long lines crossed but \n",
    "        # the line segments didn't\n",
    "        return None            \n",
    "    \n",
    "    else:\n",
    "        return None\n",
    "        \n",
    "        \n",
    "# Test script below...\n",
    "if __name__ == \"__main__\":\n",
    " \n",
    "    # line 1 and 2 cross, 1 and 3 don't but would if extended, 2 and 3 are parallel\n",
    "    # line 5 is horizontal, line 4 is vertical\n",
    "    p1 = (1,5)\n",
    "    p2 = (4,7)\n",
    "    \n",
    "    p3 = (4,5)\n",
    "    p4 = (3,7)\n",
    "    \n",
    "    p5 = (4,1)\n",
    "    p6 = (3,3)\n",
    "    \n",
    "    p7 = (3,1)\n",
    "    p8 = (3,10)\n",
    "    \n",
    "    p9 =  (0,6)\n",
    "    p10 = (5,6)\n",
    "    \n",
    "    p11 = (472.0, 116.0)\n",
    "    p12 = (542.0, 116.0)  \n",
    "    \n",
    "    assert None != calculateIntersectPoint(p1, p2, p3, p4), \"line 1 line 2 should intersect\"\n",
    "    assert None != calculateIntersectPoint(p3, p4, p1, p2), \"line 2 line 1 should intersect\"\n",
    "    assert None == calculateIntersectPoint(p1, p2, p5, p6), \"line 1 line 3 shouldn't intersect\"\n",
    "    assert None == calculateIntersectPoint(p3, p4, p5, p6), \"line 2 line 3 shouldn't intersect\"\n",
    "    assert None != calculateIntersectPoint(p1, p2, p7, p8), \"line 1 line 4 should intersect\"\n",
    "    assert None != calculateIntersectPoint(p7, p8, p1, p2), \"line 4 line 1 should intersect\"\n",
    "    assert None != calculateIntersectPoint(p1, p2, p9, p10), \"line 1 line 5 should intersect\"\n",
    "    assert None != calculateIntersectPoint(p9, p10, p1, p2), \"line 5 line 1 should intersect\"\n",
    "    assert None != calculateIntersectPoint(p7, p8, p9, p10), \"line 4 line 5 should intersect\"\n",
    "    assert None != calculateIntersectPoint(p9, p10, p7, p8), \"line 5 line 4 should intersect\"\n",
    "    \n",
    "    print \"\\nSUCCESS! All asserts passed for doLinesIntersect\""
   ]
  },
  {
   "cell_type": "code",
   "execution_count": 25,
   "metadata": {
    "collapsed": false
   },
   "outputs": [
    {
     "name": "stdout",
     "output_type": "stream",
     "text": [
      "False\n",
      "True\n",
      "False\n"
     ]
    }
   ],
   "source": [
    "# http://bryceboe.com/2006/10/23/line-segment-intersection-algorithm/\n",
    "\n",
    "#!/usr/bin/python\n",
    "\n",
    "class Point:\n",
    "    def __init__(self,x,y):\n",
    "        self.x = x\n",
    "        self.y = y\n",
    "\n",
    "def ccw(A,B,C):\n",
    "    return (C.y-A.y)*(B.x-A.x) > (B.y-A.y)*(C.x-A.x)\n",
    "\n",
    "def intersect(A,B,C,D):\n",
    "    return ccw(A,C,D) != ccw(B,C,D) and ccw(A,B,C) != ccw(A,B,D)\n",
    "\n",
    "\n",
    "a = Point(0,0)\n",
    "b = Point(0,1)\n",
    "c = Point(1,1)\n",
    "d = Point(1,0)\n",
    "\n",
    "\n",
    "print intersect(a,b,c,d)\n",
    "print intersect(a,c,b,d)\n",
    "print intersect(a,d,b,c)"
   ]
  },
  {
   "cell_type": "code",
   "execution_count": null,
   "metadata": {
    "collapsed": true
   },
   "outputs": [],
   "source": [
    "# https://en.wikipedia.org/wiki/Cramer%27s_rule\n",
    "\n"
   ]
  },
  {
   "cell_type": "code",
   "execution_count": 26,
   "metadata": {
    "collapsed": false
   },
   "outputs": [
    {
     "name": "stdout",
     "output_type": "stream",
     "text": [
      "Line segment #1 runs from (10, 10) to (20, 20)\n",
      "Line segment #2 runs from (10, 20) to (20, 10)\n",
      "    Intersection result = (15.0, 15.0, 1, 0.5, 0.5)\n",
      "\n",
      "Line segment #1 runs from (10, 10) to (10, 20)\n",
      "Line segment #2 runs from (20, 20) to (20, 10)\n",
      "    Intersection result = (0, 0, 0, 0, 0)\n",
      "\n",
      "Line segment #1 runs from (10, 10) to (20, 20)\n",
      "Line segment #2 runs from (20, 10) to (40, 20)\n",
      "    Intersection result = (0.0, 0.0, 1, -1.0, -1.0)\n",
      "\n"
     ]
    }
   ],
   "source": [
    "#\n",
    "# intersections.py\n",
    "#\n",
    "# Python for finding line intersections\n",
    "#   intended to be easily adaptable for line-segment intersections\n",
    "#\n",
    "\n",
    "import math\n",
    "\n",
    "def intersectLines( pt1, pt2, ptA, ptB ): \n",
    "    \"\"\" this returns the intersection of Line(pt1,pt2) and Line(ptA,ptB)\n",
    "        \n",
    "        returns a tuple: (xi, yi, valid, r, s), where\n",
    "        (xi, yi) is the intersection\n",
    "        r is the scalar multiple such that (xi,yi) = pt1 + r*(pt2-pt1)\n",
    "        s is the scalar multiple such that (xi,yi) = pt1 + s*(ptB-ptA)\n",
    "            valid == 0 if there are 0 or inf. intersections (invalid)\n",
    "            valid == 1 if it has a unique intersection ON the segment    \"\"\"\n",
    "\n",
    "    DET_TOLERANCE = 0.00000001\n",
    "\n",
    "    # the first line is pt1 + r*(pt2-pt1)\n",
    "    # in component form:\n",
    "    x1, y1 = pt1;   x2, y2 = pt2\n",
    "    dx1 = x2 - x1;  dy1 = y2 - y1\n",
    "\n",
    "    # the second line is ptA + s*(ptB-ptA)\n",
    "    x, y = ptA;   xB, yB = ptB;\n",
    "    dx = xB - x;  dy = yB - y;\n",
    "\n",
    "    # we need to find the (typically unique) values of r and s\n",
    "    # that will satisfy\n",
    "    #\n",
    "    # (x1, y1) + r(dx1, dy1) = (x, y) + s(dx, dy)\n",
    "    #\n",
    "    # which is the same as\n",
    "    #\n",
    "    #    [ dx1  -dx ][ r ] = [ x-x1 ]\n",
    "    #    [ dy1  -dy ][ s ] = [ y-y1 ]\n",
    "    #\n",
    "    # whose solution is\n",
    "    #\n",
    "    #    [ r ] = _1_  [  -dy   dx ] [ x-x1 ]\n",
    "    #    [ s ] = DET  [ -dy1  dx1 ] [ y-y1 ]\n",
    "    #\n",
    "    # where DET = (-dx1 * dy + dy1 * dx)\n",
    "    #\n",
    "    # if DET is too small, they're parallel\n",
    "    #\n",
    "    DET = (-dx1 * dy + dy1 * dx)\n",
    "\n",
    "    if math.fabs(DET) < DET_TOLERANCE: return (0,0,0,0,0)\n",
    "\n",
    "    # now, the determinant should be OK\n",
    "    DETinv = 1.0/DET\n",
    "\n",
    "    # find the scalar amount along the \"self\" segment\n",
    "    r = DETinv * (-dy  * (x-x1) +  dx * (y-y1))\n",
    "\n",
    "    # find the scalar amount along the input line\n",
    "    s = DETinv * (-dy1 * (x-x1) + dx1 * (y-y1))\n",
    "\n",
    "    # return the average of the two descriptions\n",
    "    xi = (x1 + r*dx1 + x + s*dx)/2.0\n",
    "    yi = (y1 + r*dy1 + y + s*dy)/2.0\n",
    "    return ( xi, yi, 1, r, s )\n",
    "\n",
    "\n",
    "def testIntersection( pt1, pt2, ptA, ptB ):\n",
    "    \"\"\" prints out a test for checking by hand... \"\"\"\n",
    "    print \"Line segment #1 runs from\", pt1, \"to\", pt2\n",
    "    print \"Line segment #2 runs from\", ptA, \"to\", ptB\n",
    "\n",
    "    result = intersectLines( pt1, pt2, ptA, ptB )\n",
    "    print \"    Intersection result =\", result\n",
    "    print\n",
    "\n",
    "\n",
    "if __name__ == \"__main__\":\n",
    "\n",
    "    pt1 = (10,10)\n",
    "    pt2 = (20,20)\n",
    "\n",
    "    pt3 = (10,20)\n",
    "    pt4 = (20,10)\n",
    "\n",
    "    pt5 = (40,20)\n",
    "\n",
    "    testIntersection( pt1, pt2, pt3, pt4 )\n",
    "    testIntersection( pt1, pt3, pt2, pt4 )\n",
    "    testIntersection( pt1, pt2, pt4, pt5 )"
   ]
  },
  {
   "cell_type": "code",
   "execution_count": null,
   "metadata": {
    "collapsed": true
   },
   "outputs": [],
   "source": [
    "# https://martin-thoma.com/how-to-check-if-two-line-segments-intersect/"
   ]
  },
  {
   "cell_type": "code",
   "execution_count": 28,
   "metadata": {
    "collapsed": false
   },
   "outputs": [],
   "source": [
    "# http://infohost.nmt.edu/tcc/contrib.html/lang/python/examples/homcoord/Line-intersect.html"
   ]
  },
  {
   "cell_type": "code",
   "execution_count": null,
   "metadata": {
    "collapsed": true
   },
   "outputs": [],
   "source": []
  }
 ],
 "metadata": {
  "kernelspec": {
   "display_name": "Python 2",
   "language": "python",
   "name": "python2"
  },
  "language_info": {
   "codemirror_mode": {
    "name": "ipython",
    "version": 2
   },
   "file_extension": ".py",
   "mimetype": "text/x-python",
   "name": "python",
   "nbconvert_exporter": "python",
   "pygments_lexer": "ipython2",
   "version": "2.7.10"
  }
 },
 "nbformat": 4,
 "nbformat_minor": 0
}
