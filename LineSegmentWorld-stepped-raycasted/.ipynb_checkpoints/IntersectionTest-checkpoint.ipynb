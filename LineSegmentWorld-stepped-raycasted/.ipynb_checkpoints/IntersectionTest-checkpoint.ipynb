{
 "cells": [
  {
   "cell_type": "code",
   "execution_count": 80,
   "metadata": {
    "collapsed": true
   },
   "outputs": [],
   "source": [
    "import numpy as np\n",
    "import matplotlib.pyplot as plt\n",
    "%matplotlib inline"
   ]
  },
  {
   "cell_type": "code",
   "execution_count": 81,
   "metadata": {
    "collapsed": true
   },
   "outputs": [],
   "source": [
    "def CastPointsToDouble(x1, y1, x2, y2, x3, y3, x4, y4):\n",
    "    return float(x1), float(y1), float(x2), float(y2), float(x3), float(y3), float(x4), float(y4)\n",
    "\n",
    "def LineSegmentIntersection(x1, y1, x2, y2, x3, y3, x4, y4):\n",
    "    if (x1 == x2) and (x3 == x4): \n",
    "        print \"I can't handle both lines being vertical\"\n",
    "        return\n",
    "    if (y1 == y2) and (y3 == y4): \n",
    "        print \"I can't handle both lines being horizontal\"\n",
    "        return\n",
    "    if ((x1 - x2)*(y3 - y4) - (y1 - y2)*(x3 - x4)) == 0:\n",
    "        print \"These lines are parallel\"\n",
    "        return\n",
    "    x1, y1, x2, y2, x3, y3, x4, y4 = CastPointsToDouble(x1, y1, x2, y2, x3, y3, x4, y4)\n",
    "    Px = ((x1*y2 - y1*x2)*(x3 - x4) - (x1 - x2)*(x3*y4 - y3*x4)) / ((x1 - x2)*(y3 - y4) - (y1 - y2)*(x3 - x4))\n",
    "    Py = ((x1*y2 - y1*x2)*(y3 - y4) - (y1 - y2)*(x3*y4 - y3*x4)) / ((x1 - x2)*(y3 - y4) - (y1 - y2)*(x3 - x4))\n",
    "    return [Px, Py]"
   ]
  },
  {
   "cell_type": "code",
   "execution_count": 82,
   "metadata": {
    "collapsed": false
   },
   "outputs": [
    {
     "data": {
      "image/png": "[encoded data removed]",
      "text/plain": [
       "<matplotlib.figure.Figure at 0x10e2ed190>"
      ]
     },
     "metadata": {},
     "output_type": "display_data"
    },
    {
     "data": {
      "image/png": "[encoded data removed]",
      "text/plain": [
       "<matplotlib.figure.Figure at 0x10e49d790>"
      ]
     },
     "metadata": {},
     "output_type": "display_data"
    }
   ],
   "source": [
    "# Line 1\n",
    "# Defined by two points: (x1, y1) , (x2, y2)\n",
    "\n",
    "# Line 2\n",
    "# Defined by two points: (x3, y3) , (x4, y4)\n",
    "\n",
    "\n",
    "# PLOT POINTS\n",
    "\n",
    "def PlotLineSegments(x1, y1, x2, y2, x3, y3, x4, y4):\n",
    "    plt.plot([x1, x2], [y1, y2])\n",
    "    plt.plot([x3, x4], [y3, y4])\n",
    "    plt.show()\n",
    "\n",
    "def PlotSegmentsWithIntersection(x1, y1, x2, y2, x3, y3, x4, y4):\n",
    "    Point = LineSegmentIntersection(x1, y1, x2, y2, x3, y3, x4, y4)\n",
    "    if Point is not None:\n",
    "        plt.plot([x1, x2], [y1, y2])\n",
    "        plt.plot([x3, x4], [y3, y4])\n",
    "        plt.plot(Point[0], Point[1], 'x')\n",
    "        plt.axis([-10,10,-10,10])\n",
    "        plt.show()\n",
    "    \n",
    "\n",
    "PlotLineSegments(0,1,2,3,4,5,10,7)\n",
    "PlotSegmentsWithIntersection(0,1,2,3,4,5,10,7)\n",
    "    \n"
   ]
  },
  {
   "cell_type": "code",
   "execution_count": 83,
   "metadata": {
    "collapsed": false
   },
   "outputs": [
    {
     "name": "stdout",
     "output_type": "stream",
     "text": [
      "============================\n",
      "Test 0: lines that intersect\n"
     ]
    },
    {
     "data": {
      "image/png": "[encoded data removed]",
      "text/plain": [
       "<matplotlib.figure.Figure at 0x10dd87a50>"
      ]
     },
     "metadata": {},
     "output_type": "display_data"
    },
    {
     "name": "stdout",
     "output_type": "stream",
     "text": [
      "============================\n",
      "\n",
      "============================\n",
      "Test 1: Lines that are both horizontal\n",
      "I can't handle both lines being horizontal\n",
      "============================\n",
      "\n",
      "============================\n",
      "Test 2: Lines that are both vertical\n",
      "I can't handle both lines being vertical\n",
      "============================\n",
      "\n",
      "============================\n",
      "Test 3: One horizontal and one vertical\n"
     ]
    },
    {
     "data": {
      "image/png": "[encoded data removed]",
      "text/plain": [
       "<matplotlib.figure.Figure at 0x10dd87a10>"
      ]
     },
     "metadata": {},
     "output_type": "display_data"
    },
    {
     "name": "stdout",
     "output_type": "stream",
     "text": [
      "============================\n",
      "\n",
      "============================\n",
      "Test 4: Parallel lines\n",
      "These lines are parallel\n",
      "============================\n",
      "\n"
     ]
    }
   ],
   "source": [
    "# Unit tests for intersection of lines\n",
    "\n",
    "print \"============================\"\n",
    "print \"Test 0: lines that intersect\"\n",
    "PlotSegmentsWithIntersection(-5,-5,20,30,-4,11,10,7)\n",
    "print \"============================\"\n",
    "print \n",
    "\n",
    "print \"============================\"\n",
    "print \"Test 1: Lines that are both horizontal\"\n",
    "PlotSegmentsWithIntersection(1,1,2,1,4,4,5,4)\n",
    "print \"============================\"\n",
    "print \n",
    "\n",
    "\n",
    "print \"============================\"\n",
    "print \"Test 2: Lines that are both vertical\"\n",
    "PlotSegmentsWithIntersection(1,1,1,2,4,4,4,5)\n",
    "print \"============================\"\n",
    "print \n",
    "\n",
    "print \"============================\"\n",
    "print \"Test 3: One horizontal and one vertical\"\n",
    "PlotSegmentsWithIntersection(1,1,1,2,4,4,5,4)\n",
    "print \"============================\"\n",
    "print \n",
    "\n",
    "print \"============================\"\n",
    "print \"Test 4: Parallel lines\"\n",
    "PlotSegmentsWithIntersection(1,1,2,2,4,1,5,2)\n",
    "print \"============================\"\n",
    "print \n"
   ]
  },
  {
   "cell_type": "code",
   "execution_count": 84,
   "metadata": {
    "collapsed": false
   },
   "outputs": [],
   "source": [
    "# Check if a point, which is guaranteed to be on a line, is on both of the line segments\n",
    "\n",
    "def IntersectionIsOnSegments(x1, y1, x2, y2, x3, y3, x4, y4, Px, Py):\n",
    "    # Check if Px is in the right range for Line 1\n",
    "    if ((x1 > Px) and (x2 > Px)) or ((x1 < Px) and (x2 < Px)):\n",
    "        return False\n",
    "    \n",
    "    # Check if Px is in the right range for Line 2\n",
    "    if ((x3 > Px) and (x4 > Px)) or ((x3 < Px) and (x4 < Px)):\n",
    "        return False\n",
    "    \n",
    "    # Check if Py is in the right range for Line 1\n",
    "    if ((y1 > Py) and (y2 > Py)) or ((y1 < Py) and (y2 < Py)):\n",
    "        return False\n",
    "    \n",
    "    # Check if Py is in the right range for Line 2\n",
    "    if ((y3 > Py) and (y4 > Py)) or ((y3 < Py) and (y4 < Py)):\n",
    "        return False\n",
    "    \n",
    "    return True\n",
    "    \n",
    "\n",
    "def PlotSegmentsWithIntersectionAndIfOnSegment(x1, y1, x2, y2, x3, y3, x4, y4):\n",
    "    Point = LineSegmentIntersection(x1, y1, x2, y2, x3, y3, x4, y4)\n",
    "    if Point is not None:\n",
    "        plt.plot([x1, x2], [y1, y2])\n",
    "        plt.plot([x3, x4], [y3, y4])\n",
    "        plt.plot(Point[0], Point[1], 'x')\n",
    "        plt.axis([-10,10,-10,10])\n",
    "        plt.show()\n",
    "        if IntersectionIsOnSegments(x1, y1, x2, y2, x3, y3, x4, y4, Point[0], Point[1]):\n",
    "            print \"This intersection is on the line segments\"\n",
    "        else:\n",
    "            print \"NOT on the line segments\"\n"
   ]
  },
  {
   "cell_type": "code",
   "execution_count": 89,
   "metadata": {
    "collapsed": false
   },
   "outputs": [
    {
     "name": "stdout",
     "output_type": "stream",
     "text": [
      "============================\n",
      "Test 0: lines that intersect\n"
     ]
    },
    {
     "data": {
      "image/png": "[encoded data removed]",
      "text/plain": [
       "<matplotlib.figure.Figure at 0x10e23c850>"
      ]
     },
     "metadata": {},
     "output_type": "display_data"
    },
    {
     "name": "stdout",
     "output_type": "stream",
     "text": [
      "This intersection is on the line segments\n",
      "============================\n",
      "\n",
      "============================\n",
      "Test 1: Lines that are both horizontal\n",
      "I can't handle both lines being horizontal\n",
      "============================\n",
      "\n",
      "============================\n",
      "Test 2: Lines that are both vertical\n",
      "I can't handle both lines being vertical\n",
      "============================\n",
      "\n",
      "============================\n",
      "Test 3: One horizontal and one vertical\n"
     ]
    },
    {
     "data": {
      "image/png": "[encoded data removed]",
      "text/plain": [
       "<matplotlib.figure.Figure at 0x10e23c090>"
      ]
     },
     "metadata": {},
     "output_type": "display_data"
    },
    {
     "name": "stdout",
     "output_type": "stream",
     "text": [
      "NOT on the line segments\n",
      "============================\n",
      "\n",
      "============================\n",
      "Test 4: Parallel lines\n",
      "These lines are parallel\n",
      "============================\n",
      "\n",
      "============================\n",
      "Test 5: line segments that intersect\n"
     ]
    },
    {
     "data": {
      "image/png": "[encoded data removed]",
      "text/plain": [
       "<matplotlib.figure.Figure at 0x10df52fd0>"
      ]
     },
     "metadata": {},
     "output_type": "display_data"
    },
    {
     "name": "stdout",
     "output_type": "stream",
     "text": [
      "This intersection is on the line segments\n",
      "============================\n",
      "\n",
      "============================\n",
      "Test 6: lines that intersect but segments don't\n"
     ]
    },
    {
     "data": {
      "image/png": "[encoded data removed]",
      "text/plain": [
       "<matplotlib.figure.Figure at 0x10ddc3790>"
      ]
     },
     "metadata": {},
     "output_type": "display_data"
    },
    {
     "name": "stdout",
     "output_type": "stream",
     "text": [
      "NOT on the line segments\n",
      "============================\n",
      "\n"
     ]
    }
   ],
   "source": [
    "# Unit tests for intersection of segments\n",
    "\n",
    "print \"============================\"\n",
    "print \"Test 0: lines that intersect\"\n",
    "PlotSegmentsWithIntersectionAndIfOnSegment(-5,-5,20,30,-4,11,10,7)\n",
    "print \"============================\"\n",
    "print \n",
    "\n",
    "print \"============================\"\n",
    "print \"Test 1: Lines that are both horizontal\"\n",
    "PlotSegmentsWithIntersectionAndIfOnSegment(1,1,2,1,4,4,5,4)\n",
    "print \"============================\"\n",
    "print \n",
    "\n",
    "\n",
    "print \"============================\"\n",
    "print \"Test 2: Lines that are both vertical\"\n",
    "PlotSegmentsWithIntersectionAndIfOnSegment(1,1,1,2,4,4,4,5)\n",
    "print \"============================\"\n",
    "print \n",
    "\n",
    "print \"============================\"\n",
    "print \"Test 3: One horizontal and one vertical\"\n",
    "PlotSegmentsWithIntersectionAndIfOnSegment(1,1,1,2,4,4,5,4)\n",
    "print \"============================\"\n",
    "print \n",
    "\n",
    "print \"============================\"\n",
    "print \"Test 4: Parallel lines\"\n",
    "PlotSegmentsWithIntersectionAndIfOnSegment(1,1,2,2,4,1,5,2)\n",
    "print \"============================\"\n",
    "print \n",
    "\n",
    "\n",
    "\n",
    "print \"============================\"\n",
    "print \"Test 5: line segments that intersect\"\n",
    "PlotSegmentsWithIntersectionAndIfOnSegment(-5,-5,20,30,-4,11,10,7)\n",
    "print \"============================\"\n",
    "print\n",
    "\n",
    "print \"============================\"\n",
    "print \"Test 6: lines that intersect but segments don't\"\n",
    "PlotSegmentsWithIntersectionAndIfOnSegment(-3,3,20,30,-0,1,10,7)\n",
    "print \"============================\"\n",
    "print"
   ]
  },
  {
   "cell_type": "code",
   "execution_count": null,
   "metadata": {
    "collapsed": true
   },
   "outputs": [],
   "source": []
  },
  {
   "cell_type": "code",
   "execution_count": null,
   "metadata": {
    "collapsed": true
   },
   "outputs": [],
   "source": []
  },
  {
   "cell_type": "code",
   "execution_count": null,
   "metadata": {
    "collapsed": true
   },
   "outputs": [],
   "source": []
  },
  {
   "cell_type": "code",
   "execution_count": null,
   "metadata": {
    "collapsed": true
   },
   "outputs": [],
   "source": []
  }
 ],
 "metadata": {
  "kernelspec": {
   "display_name": "Python 2",
   "language": "python",
   "name": "python2"
  },
  "language_info": {
   "codemirror_mode": {
    "name": "ipython",
    "version": 2
   },
   "file_extension": ".py",
   "mimetype": "text/x-python",
   "name": "python",
   "nbconvert_exporter": "python",
   "pygments_lexer": "ipython2",
   "version": "2.7.10"
  }
 },
 "nbformat": 4,
 "nbformat_minor": 0
}
