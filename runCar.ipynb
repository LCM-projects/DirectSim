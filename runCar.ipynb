{
 "cells": [
  {
   "cell_type": "code",
   "execution_count": 13,
   "metadata": {
    "collapsed": false
   },
   "outputs": [
    {
     "data": {
      "text/plain": [
       "0"
      ]
     },
     "execution_count": 13,
     "metadata": {},
     "output_type": "execute_result"
    }
   ],
   "source": [
    "import os\n",
    "os.system(\"~/drakenew/drake-distro/build/bin/ddConsoleApp movingIntersection.py\")"
   ]
  },
  {
   "cell_type": "code",
   "execution_count": 2,
   "metadata": {
    "collapsed": false
   },
   "outputs": [],
   "source": [
    "%load_ext autoreload\n",
    "%autoreload 2\n",
    "from car import Car"
   ]
  },
  {
   "cell_type": "code",
   "execution_count": 3,
   "metadata": {
    "collapsed": false
   },
   "outputs": [
    {
     "name": "stdout",
     "output_type": "stream",
     "text": [
      "[ 0.  0.  0.]\n"
     ]
    }
   ],
   "source": [
    "smartCar = Car()\n",
    "print smartCar.state"
   ]
  },
  {
   "cell_type": "code",
   "execution_count": 4,
   "metadata": {
    "collapsed": false
   },
   "outputs": [
    {
     "name": "stdout",
     "output_type": "stream",
     "text": [
      "[[  0.    0.    0. ]\n",
      " [  0.4   0.    0. ]\n",
      " [  0.8   0.    0. ]\n",
      " [  1.2   0.    0. ]\n",
      " [  1.6   0.    0. ]\n",
      " [  2.    0.    0. ]\n",
      " [  2.4   0.    0. ]\n",
      " [  2.8   0.    0. ]\n",
      " [  3.2   0.    0. ]\n",
      " [  3.6   0.    0. ]\n",
      " [  4.    0.    0. ]\n",
      " [  4.4   0.    0. ]\n",
      " [  4.8   0.    0. ]\n",
      " [  5.2   0.    0. ]\n",
      " [  5.6   0.    0. ]\n",
      " [  6.    0.    0. ]\n",
      " [  6.4   0.    0. ]\n",
      " [  6.8   0.    0. ]\n",
      " [  7.2   0.    0. ]\n",
      " [  7.6   0.    0. ]\n",
      " [  8.    0.    0. ]\n",
      " [  8.4   0.    0. ]\n",
      " [  8.8   0.    0. ]\n",
      " [  9.2   0.    0. ]\n",
      " [  9.6   0.    0. ]\n",
      " [ 10.    0.    0. ]\n",
      " [ 10.4   0.    0. ]\n",
      " [ 10.8   0.    0. ]\n",
      " [ 11.2   0.    0. ]\n",
      " [ 11.6   0.    0. ]\n",
      " [ 12.    0.    0. ]\n",
      " [ 12.4   0.    0. ]\n",
      " [ 12.8   0.    0. ]\n",
      " [ 13.2   0.    0. ]\n",
      " [ 13.6   0.    0. ]\n",
      " [ 14.    0.    0. ]\n",
      " [ 14.4   0.    0. ]\n",
      " [ 14.8   0.    0. ]\n",
      " [ 15.2   0.    0. ]\n",
      " [ 15.6   0.    0. ]\n",
      " [ 16.    0.    0. ]\n",
      " [ 16.4   0.    0. ]\n",
      " [ 16.8   0.    0. ]\n",
      " [ 17.2   0.    0. ]\n",
      " [ 17.6   0.    0. ]\n",
      " [ 18.    0.    0. ]\n",
      " [ 18.4   0.    0. ]\n",
      " [ 18.8   0.    0. ]\n",
      " [ 19.2   0.    0. ]\n",
      " [ 19.6   0.    0. ]\n",
      " [ 20.    0.    0. ]\n",
      " [ 20.4   0.    0. ]\n",
      " [ 20.8   0.    0. ]\n",
      " [ 21.2   0.    0. ]\n",
      " [ 21.6   0.    0. ]\n",
      " [ 22.    0.    0. ]\n",
      " [ 22.4   0.    0. ]\n",
      " [ 22.8   0.    0. ]\n",
      " [ 23.2   0.    0. ]\n",
      " [ 23.6   0.    0. ]\n",
      " [ 24.    0.    0. ]\n",
      " [ 24.4   0.    0. ]\n",
      " [ 24.8   0.    0. ]\n",
      " [ 25.2   0.    0. ]\n",
      " [ 25.6   0.    0. ]\n",
      " [ 26.    0.    0. ]\n",
      " [ 26.4   0.    0. ]\n",
      " [ 26.8   0.    0. ]\n",
      " [ 27.2   0.    0. ]\n",
      " [ 27.6   0.    0. ]\n",
      " [ 28.    0.    0. ]\n",
      " [ 28.4   0.    0. ]\n",
      " [ 28.8   0.    0. ]\n",
      " [ 29.2   0.    0. ]\n",
      " [ 29.6   0.    0. ]\n",
      " [ 30.    0.    0. ]\n",
      " [ 30.4   0.    0. ]\n",
      " [ 30.8   0.    0. ]\n",
      " [ 31.2   0.    0. ]\n",
      " [ 31.6   0.    0. ]\n",
      " [ 32.    0.    0. ]\n",
      " [ 32.4   0.    0. ]\n",
      " [ 32.8   0.    0. ]\n",
      " [ 33.2   0.    0. ]\n",
      " [ 33.6   0.    0. ]\n",
      " [ 34.    0.    0. ]\n",
      " [ 34.4   0.    0. ]\n",
      " [ 34.8   0.    0. ]\n",
      " [ 35.2   0.    0. ]\n",
      " [ 35.6   0.    0. ]\n",
      " [ 36.    0.    0. ]\n",
      " [ 36.4   0.    0. ]\n",
      " [ 36.8   0.    0. ]\n",
      " [ 37.2   0.    0. ]\n",
      " [ 37.6   0.    0. ]\n",
      " [ 38.    0.    0. ]\n",
      " [ 38.4   0.    0. ]\n",
      " [ 38.8   0.    0. ]\n",
      " [ 39.2   0.    0. ]\n",
      " [ 39.6   0.    0. ]\n",
      " [ 40.    0.    0. ]\n",
      " [ 40.4   0.    0. ]\n",
      " [ 40.8   0.    0. ]\n",
      " [ 41.2   0.    0. ]\n",
      " [ 41.6   0.    0. ]\n",
      " [ 42.    0.    0. ]\n",
      " [ 42.4   0.    0. ]\n",
      " [ 42.8   0.    0. ]\n",
      " [ 43.2   0.    0. ]\n",
      " [ 43.6   0.    0. ]\n",
      " [ 44.    0.    0. ]\n",
      " [ 44.4   0.    0. ]\n",
      " [ 44.8   0.    0. ]\n",
      " [ 45.2   0.    0. ]\n",
      " [ 45.6   0.    0. ]\n",
      " [ 46.    0.    0. ]\n",
      " [ 46.4   0.    0. ]\n",
      " [ 46.8   0.    0. ]\n",
      " [ 47.2   0.    0. ]\n",
      " [ 47.6   0.    0. ]\n",
      " [ 48.    0.    0. ]\n",
      " [ 48.4   0.    0. ]\n",
      " [ 48.8   0.    0. ]\n",
      " [ 49.2   0.    0. ]\n",
      " [ 49.6   0.    0. ]\n",
      " [ 50.    0.    0. ]\n",
      " [ 50.4   0.    0. ]\n",
      " [ 50.8   0.    0. ]\n",
      " [ 51.2   0.    0. ]\n",
      " [ 51.6   0.    0. ]\n",
      " [ 52.    0.    0. ]\n",
      " [ 52.4   0.    0. ]\n",
      " [ 52.8   0.    0. ]\n",
      " [ 53.2   0.    0. ]\n",
      " [ 53.6   0.    0. ]\n",
      " [ 54.    0.    0. ]\n",
      " [ 54.4   0.    0. ]\n",
      " [ 54.8   0.    0. ]\n",
      " [ 55.2   0.    0. ]\n",
      " [ 55.6   0.    0. ]\n",
      " [ 56.    0.    0. ]\n",
      " [ 56.4   0.    0. ]\n",
      " [ 56.8   0.    0. ]\n",
      " [ 57.2   0.    0. ]\n",
      " [ 57.6   0.    0. ]\n",
      " [ 58.    0.    0. ]\n",
      " [ 58.4   0.    0. ]\n",
      " [ 58.8   0.    0. ]\n",
      " [ 59.2   0.    0. ]\n",
      " [ 59.6   0.    0. ]\n",
      " [ 60.    0.    0. ]\n",
      " [ 60.4   0.    0. ]\n",
      " [ 60.8   0.    0. ]\n",
      " [ 61.2   0.    0. ]\n",
      " [ 61.6   0.    0. ]\n",
      " [ 62.    0.    0. ]\n",
      " [ 62.4   0.    0. ]\n",
      " [ 62.8   0.    0. ]\n",
      " [ 63.2   0.    0. ]\n",
      " [ 63.6   0.    0. ]\n",
      " [ 64.    0.    0. ]\n",
      " [ 64.4   0.    0. ]\n",
      " [ 64.8   0.    0. ]\n",
      " [ 65.2   0.    0. ]\n",
      " [ 65.6   0.    0. ]\n",
      " [ 66.    0.    0. ]\n",
      " [ 66.4   0.    0. ]\n",
      " [ 66.8   0.    0. ]\n",
      " [ 67.2   0.    0. ]\n",
      " [ 67.6   0.    0. ]\n",
      " [ 68.    0.    0. ]\n",
      " [ 68.4   0.    0. ]\n",
      " [ 68.8   0.    0. ]\n",
      " [ 69.2   0.    0. ]\n",
      " [ 69.6   0.    0. ]\n",
      " [ 70.    0.    0. ]\n",
      " [ 70.4   0.    0. ]\n",
      " [ 70.8   0.    0. ]\n",
      " [ 71.2   0.    0. ]\n",
      " [ 71.6   0.    0. ]\n",
      " [ 72.    0.    0. ]\n",
      " [ 72.4   0.    0. ]\n",
      " [ 72.8   0.    0. ]\n",
      " [ 73.2   0.    0. ]\n",
      " [ 73.6   0.    0. ]\n",
      " [ 74.    0.    0. ]\n",
      " [ 74.4   0.    0. ]\n",
      " [ 74.8   0.    0. ]\n",
      " [ 75.2   0.    0. ]\n",
      " [ 75.6   0.    0. ]\n",
      " [ 76.    0.    0. ]\n",
      " [ 76.4   0.    0. ]\n",
      " [ 76.8   0.    0. ]\n",
      " [ 77.2   0.    0. ]\n",
      " [ 77.6   0.    0. ]\n",
      " [ 78.    0.    0. ]\n",
      " [ 78.4   0.    0. ]\n",
      " [ 78.8   0.    0. ]\n",
      " [ 79.2   0.    0. ]\n",
      " [ 79.6   0.    0. ]]\n"
     ]
    }
   ],
   "source": [
    "print smartCar.simulate()"
   ]
  },
  {
   "cell_type": "code",
   "execution_count": 5,
   "metadata": {
    "collapsed": false
   },
   "outputs": [
    {
     "name": "stdout",
     "output_type": "stream",
     "text": [
      "[ 0.  0.  0.]\n"
     ]
    }
   ],
   "source": [
    "print smartCar.state"
   ]
  },
  {
   "cell_type": "code",
   "execution_count": 6,
   "metadata": {
    "collapsed": false
   },
   "outputs": [
    {
     "name": "stdout",
     "output_type": "stream",
     "text": [
      "[ 0.4  0.   0. ]\n"
     ]
    }
   ],
   "source": [
    "print smartCar.simulateOneStep()"
   ]
  },
  {
   "cell_type": "code",
   "execution_count": 7,
   "metadata": {
    "collapsed": false
   },
   "outputs": [
    {
     "name": "stdout",
     "output_type": "stream",
     "text": [
      "6\n"
     ]
    }
   ],
   "source": [
    "import numpy as np\n",
    "A = np.clip(10, 0, 6)\n",
    "print A"
   ]
  },
  {
   "cell_type": "code",
   "execution_count": 10,
   "metadata": {
    "collapsed": false
   },
   "outputs": [
    {
     "ename": "ImportError",
     "evalue": "No module named PythonQt",
     "output_type": "error",
     "traceback": [
      "\u001b[0;31m---------------------------------------------------------------------------\u001b[0m",
      "\u001b[0;31mImportError\u001b[0m                               Traceback (most recent call last)",
      "\u001b[0;32m<ipython-input-10-340049a88f0c>\u001b[0m in \u001b[0;36m<module>\u001b[0;34m()\u001b[0m\n\u001b[0;32m----> 1\u001b[0;31m \u001b[0;32mfrom\u001b[0m \u001b[0msimulator\u001b[0m \u001b[0;32mimport\u001b[0m \u001b[0mSimulator\u001b[0m\u001b[0;34m\u001b[0m\u001b[0m\n\u001b[0m",
      "\u001b[0;32m/Users/pflomacpro/Desktop/Classes/6.867/Machine-Learning-6.867-homework/project/code/simulator.py\u001b[0m in \u001b[0;36m<module>\u001b[0;34m()\u001b[0m\n\u001b[1;32m      1\u001b[0m \u001b[0;32mimport\u001b[0m \u001b[0mddapp\u001b[0m\u001b[0;34m.\u001b[0m\u001b[0mvtkAll\u001b[0m \u001b[0;32mas\u001b[0m \u001b[0mvtk\u001b[0m\u001b[0;34m\u001b[0m\u001b[0m\n\u001b[0;32m----> 2\u001b[0;31m \u001b[0;32mimport\u001b[0m \u001b[0mddapp\u001b[0m\u001b[0;34m.\u001b[0m\u001b[0mvisualization\u001b[0m \u001b[0;32mas\u001b[0m \u001b[0mvis\u001b[0m\u001b[0;34m\u001b[0m\u001b[0m\n\u001b[0m\u001b[1;32m      3\u001b[0m \u001b[0;32mimport\u001b[0m \u001b[0mddapp\u001b[0m\u001b[0;34m.\u001b[0m\u001b[0mobjectmodel\u001b[0m \u001b[0;32mas\u001b[0m \u001b[0mom\u001b[0m\u001b[0;34m\u001b[0m\u001b[0m\n\u001b[1;32m      4\u001b[0m \u001b[0;32mfrom\u001b[0m \u001b[0mddapp\u001b[0m\u001b[0;34m.\u001b[0m\u001b[0mdebugVis\u001b[0m \u001b[0;32mimport\u001b[0m \u001b[0mDebugData\u001b[0m\u001b[0;34m\u001b[0m\u001b[0m\n\u001b[1;32m      5\u001b[0m \u001b[0;32mfrom\u001b[0m \u001b[0mddapp\u001b[0m\u001b[0;34m.\u001b[0m\u001b[0mconsoleapp\u001b[0m \u001b[0;32mimport\u001b[0m \u001b[0mConsoleApp\u001b[0m\u001b[0;34m\u001b[0m\u001b[0m\n",
      "\u001b[0;32m/Users/pflomacpro/drakenew/drake-distro/externals/director/distro/pods/drake-distro/pod-build/src/ddapp-build/lib/python2.7/dist-packages/ddapp/visualization.py\u001b[0m in \u001b[0;36m<module>\u001b[0;34m()\u001b[0m\n\u001b[0;32m----> 1\u001b[0;31m \u001b[0;32mimport\u001b[0m \u001b[0mddapp\u001b[0m\u001b[0;34m.\u001b[0m\u001b[0mobjectmodel\u001b[0m \u001b[0;32mas\u001b[0m \u001b[0mom\u001b[0m\u001b[0;34m\u001b[0m\u001b[0m\n\u001b[0m\u001b[1;32m      2\u001b[0m \u001b[0;32mimport\u001b[0m \u001b[0mddapp\u001b[0m\u001b[0;34m.\u001b[0m\u001b[0mapplogic\u001b[0m \u001b[0;32mas\u001b[0m \u001b[0mapp\u001b[0m\u001b[0;34m\u001b[0m\u001b[0m\n\u001b[1;32m      3\u001b[0m \u001b[0;32mfrom\u001b[0m \u001b[0mshallowCopy\u001b[0m \u001b[0;32mimport\u001b[0m \u001b[0mshallowCopy\u001b[0m\u001b[0;34m\u001b[0m\u001b[0m\n\u001b[1;32m      4\u001b[0m \u001b[0;32mimport\u001b[0m \u001b[0mddapp\u001b[0m\u001b[0;34m.\u001b[0m\u001b[0mvtkAll\u001b[0m \u001b[0;32mas\u001b[0m \u001b[0mvtk\u001b[0m\u001b[0;34m\u001b[0m\u001b[0m\n\u001b[1;32m      5\u001b[0m \u001b[0;32mfrom\u001b[0m \u001b[0mddapp\u001b[0m\u001b[0;34m.\u001b[0m\u001b[0mtimercallback\u001b[0m \u001b[0;32mimport\u001b[0m \u001b[0mTimerCallback\u001b[0m\u001b[0;34m\u001b[0m\u001b[0m\n",
      "\u001b[0;32m/Users/pflomacpro/drakenew/drake-distro/externals/director/distro/pods/drake-distro/pod-build/src/ddapp-build/lib/python2.7/dist-packages/ddapp/objectmodel.py\u001b[0m in \u001b[0;36m<module>\u001b[0;34m()\u001b[0m\n\u001b[1;32m      1\u001b[0m \u001b[0;32mimport\u001b[0m \u001b[0mos\u001b[0m\u001b[0;34m\u001b[0m\u001b[0m\n\u001b[0;32m----> 2\u001b[0;31m \u001b[0;32mimport\u001b[0m \u001b[0mPythonQt\u001b[0m\u001b[0;34m\u001b[0m\u001b[0m\n\u001b[0m\u001b[1;32m      3\u001b[0m \u001b[0;32mfrom\u001b[0m \u001b[0mPythonQt\u001b[0m \u001b[0;32mimport\u001b[0m \u001b[0mQtCore\u001b[0m\u001b[0;34m,\u001b[0m \u001b[0mQtGui\u001b[0m\u001b[0;34m\u001b[0m\u001b[0m\n\u001b[1;32m      4\u001b[0m \u001b[0;32mfrom\u001b[0m \u001b[0mddapp\u001b[0m\u001b[0;34m.\u001b[0m\u001b[0mpropertyset\u001b[0m \u001b[0;32mimport\u001b[0m \u001b[0mPropertySet\u001b[0m\u001b[0;34m,\u001b[0m \u001b[0mPropertyAttributes\u001b[0m\u001b[0;34m,\u001b[0m \u001b[0mPropertyPanelHelper\u001b[0m\u001b[0;34m\u001b[0m\u001b[0m\n\u001b[1;32m      5\u001b[0m \u001b[0;32mfrom\u001b[0m \u001b[0mddapp\u001b[0m \u001b[0;32mimport\u001b[0m \u001b[0mcallbacks\u001b[0m\u001b[0;34m\u001b[0m\u001b[0m\n",
      "\u001b[0;31mImportError\u001b[0m: No module named PythonQt"
     ]
    }
   ],
   "source": []
  },
  {
   "cell_type": "code",
   "execution_count": 25,
   "metadata": {
    "collapsed": false
   },
   "outputs": [
    {
     "data": {
      "text/plain": [
       "256"
      ]
     },
     "execution_count": 25,
     "metadata": {},
     "output_type": "execute_result"
    }
   ],
   "source": [
    "import os\n",
    "os.system(\"~/drakenew/drake-distro/build/bin/ddConsoleApp simulator.py\")"
   ]
  },
  {
   "cell_type": "code",
   "execution_count": 22,
   "metadata": {
    "collapsed": false
   },
   "outputs": [],
   "source": [
    "from world import World"
   ]
  },
  {
   "cell_type": "code",
   "execution_count": 24,
   "metadata": {
    "collapsed": false
   },
   "outputs": [
    {
     "name": "stdout",
     "output_type": "stream",
     "text": [
      "Building simple world\n"
     ]
    },
    {
     "ename": "NameError",
     "evalue": "global name 'DebugData' is not defined",
     "output_type": "error",
     "traceback": [
      "\u001b[0;31m---------------------------------------------------------------------------\u001b[0m",
      "\u001b[0;31mNameError\u001b[0m                                 Traceback (most recent call last)",
      "\u001b[0;32m<ipython-input-24-aae4e0af3ab5>\u001b[0m in \u001b[0;36m<module>\u001b[0;34m()\u001b[0m\n\u001b[1;32m      1\u001b[0m \u001b[0mWorld2\u001b[0m \u001b[0;34m=\u001b[0m \u001b[0mWorld\u001b[0m\u001b[0;34m(\u001b[0m\u001b[0;34m)\u001b[0m\u001b[0;34m\u001b[0m\u001b[0m\n\u001b[0;32m----> 2\u001b[0;31m \u001b[0mWorld2\u001b[0m\u001b[0;34m.\u001b[0m\u001b[0mbuildSimpleWorld\u001b[0m\u001b[0;34m(\u001b[0m\u001b[0;34m)\u001b[0m\u001b[0;34m\u001b[0m\u001b[0m\n\u001b[0m",
      "\u001b[0;32m/Users/pflomacpro/Desktop/Classes/6.867/Machine-Learning-6.867-homework/project/code/world.py\u001b[0m in \u001b[0;36mbuildSimpleWorld\u001b[0;34m(self)\u001b[0m\n\u001b[1;32m     11\u001b[0m     \u001b[0;32mdef\u001b[0m \u001b[0mbuildSimpleWorld\u001b[0m\u001b[0;34m(\u001b[0m\u001b[0mself\u001b[0m\u001b[0;34m)\u001b[0m\u001b[0;34m:\u001b[0m\u001b[0;34m\u001b[0m\u001b[0m\n\u001b[1;32m     12\u001b[0m \u001b[0;34m\u001b[0m\u001b[0m\n\u001b[0;32m---> 13\u001b[0;31m         \u001b[0md\u001b[0m \u001b[0;34m=\u001b[0m \u001b[0mDebugData\u001b[0m\u001b[0;34m(\u001b[0m\u001b[0;34m)\u001b[0m\u001b[0;34m\u001b[0m\u001b[0m\n\u001b[0m\u001b[1;32m     14\u001b[0m         \u001b[0md\u001b[0m\u001b[0;34m.\u001b[0m\u001b[0maddLine\u001b[0m\u001b[0;34m(\u001b[0m\u001b[0;34m(\u001b[0m\u001b[0;36m2\u001b[0m\u001b[0;34m,\u001b[0m\u001b[0;34m-\u001b[0m\u001b[0;36m1\u001b[0m\u001b[0;34m,\u001b[0m\u001b[0;36m0\u001b[0m\u001b[0;34m)\u001b[0m\u001b[0;34m,\u001b[0m \u001b[0;34m(\u001b[0m\u001b[0;36m2\u001b[0m\u001b[0;34m,\u001b[0m\u001b[0;36m1\u001b[0m\u001b[0;34m,\u001b[0m\u001b[0;36m0\u001b[0m\u001b[0;34m)\u001b[0m\u001b[0;34m,\u001b[0m \u001b[0mradius\u001b[0m\u001b[0;34m=\u001b[0m\u001b[0;36m0.1\u001b[0m\u001b[0;34m)\u001b[0m\u001b[0;34m\u001b[0m\u001b[0m\n\u001b[1;32m     15\u001b[0m         \u001b[0md\u001b[0m\u001b[0;34m.\u001b[0m\u001b[0maddLine\u001b[0m\u001b[0;34m(\u001b[0m\u001b[0;34m(\u001b[0m\u001b[0;36m2\u001b[0m\u001b[0;34m,\u001b[0m\u001b[0;34m-\u001b[0m\u001b[0;36m1\u001b[0m\u001b[0;34m,\u001b[0m\u001b[0;36m0\u001b[0m\u001b[0;34m)\u001b[0m\u001b[0;34m,\u001b[0m \u001b[0;34m(\u001b[0m\u001b[0;36m1\u001b[0m\u001b[0;34m,\u001b[0m\u001b[0;34m-\u001b[0m\u001b[0;36m2\u001b[0m\u001b[0;34m,\u001b[0m\u001b[0;36m0\u001b[0m\u001b[0;34m)\u001b[0m\u001b[0;34m,\u001b[0m \u001b[0mradius\u001b[0m\u001b[0;34m=\u001b[0m\u001b[0;36m0.1\u001b[0m\u001b[0;34m)\u001b[0m\u001b[0;34m\u001b[0m\u001b[0m\n",
      "\u001b[0;31mNameError\u001b[0m: global name 'DebugData' is not defined"
     ]
    }
   ],
   "source": [
    "World2 = World()\n",
    "World2.buildSimpleWorld()\n"
   ]
  },
  {
   "cell_type": "code",
   "execution_count": null,
   "metadata": {
    "collapsed": true
   },
   "outputs": [],
   "source": []
  }
 ],
 "metadata": {
  "kernelspec": {
   "display_name": "Python 2",
   "language": "python",
   "name": "python2"
  },
  "language_info": {
   "codemirror_mode": {
    "name": "ipython",
    "version": 2
   },
   "file_extension": ".py",
   "mimetype": "text/x-python",
   "name": "python",
   "nbconvert_exporter": "python",
   "pygments_lexer": "ipython2",
   "version": "2.7.10"
  }
 },
 "nbformat": 4,
 "nbformat_minor": 0
}
